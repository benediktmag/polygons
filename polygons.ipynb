{
 "cells": [
  {
   "cell_type": "code",
   "execution_count": 228,
   "id": "626129ad-5d52-436c-bc4c-afec1610719a",
   "metadata": {},
   "outputs": [],
   "source": [
    "# Define polygon\n",
    "import matplotlib.pyplot as plt\n",
    "import numpy as np\n",
    "import math\n",
    "from scipy.spatial import ConvexHull\n",
    "from matplotlib.patches import Polygon\n",
    "%matplotlib widget\n"
   ]
  },
  {
   "cell_type": "code",
   "execution_count": 371,
   "id": "2e56e05e-c05e-4b30-8cc3-31ca982895e9",
   "metadata": {
    "jupyter": {
     "source_hidden": true
    },
    "scrolled": true
   },
   "outputs": [],
   "source": [
    "def plot_polygon(polygon_vertices):\n",
    "    # Plot polygon\n",
    "    # Create a figure and axis\n",
    "    fig, ax = plt.subplots()\n",
    "    \n",
    "    # Create a polygon patch\n",
    "    polygon_patch = Polygon(polygon_vertices, closed=True, edgecolor='r', linewidth=2, facecolor='none')\n",
    "    \n",
    "    # Add the polygon patch to the axis\n",
    "    ax.add_patch(polygon_patch)\n",
    "    \n",
    "    # Set the aspect of the plot to be equal\n",
    "    ax.set_aspect('equal')\n",
    "    \n",
    "    # Set limits for the axes\n",
    "    xmax=max(polygon_vertices)[0]\n",
    "    ymax=max(polygon_vertices)[1]\n",
    "    ax.set_xlim(0, max(ymax,xmax)+1)\n",
    "    ax.set_ylim(0, max(ymax,xmax)+1)\n",
    "    \n",
    "    # Show the plot\n",
    "    plt.grid()\n",
    "    plt.show()\n",
    "\n",
    "    return plt\n",
    "\n",
    "def plot_cones(polygon_vertices):\n",
    "    t=linspace(0,2*pi,10)\n",
    "    print(t)"
   ]
  },
  {
   "cell_type": "code",
   "execution_count": 211,
   "id": "862d6af4-9b7e-498b-856d-b21a8b4f7b46",
   "metadata": {
    "jupyter": {
     "source_hidden": true
    }
   },
   "outputs": [],
   "source": [
    "def convex_hull(polygon_vertices):\n",
    "    # Returns the convex hull of a polygon\n",
    "    # Useful if the list of vertices is not in the correct order\n",
    "    # For example: convex_hull([[0,0], [2, 2], [0, 1], [2,0]])\n",
    "    # returns [[0, 1], [0, 0], [2, 0], [2, 2]]\n",
    "    \n",
    "    # Convert the list of points to a NumPy array\n",
    "    points_array = np.array(polygon_vertices)\n",
    "    \n",
    "    # Calculate the convex hull of the points\n",
    "    hull = ConvexHull(points_array)\n",
    "    \n",
    "    # Get the indices of the points forming the convex hull\n",
    "    convex_hull_indices = hull.vertices\n",
    "    \n",
    "    # Get the points forming the convex hull\n",
    "    convex_hull_points = points_array[convex_hull_indices]\n",
    "    \n",
    "    # Return the points forming the convex polygon\n",
    "    return convex_hull_points.tolist()"
   ]
  },
  {
   "cell_type": "code",
   "execution_count": 212,
   "id": "a5c6b23f-0dab-4e38-9175-801bd7f226da",
   "metadata": {
    "jupyter": {
     "source_hidden": true
    }
   },
   "outputs": [],
   "source": [
    "def lower_hull(polygon_vertices):\n",
    "    temp=polygon_vertices\n",
    "    temp.append((0,max(polygon_vertices, key=lambda point: point[1])[1]))\n",
    "    temp.append((max(polygon_vertices, key=lambda point: point[0])[0],0))\n",
    "    return convex_hull(temp)"
   ]
  },
  {
   "cell_type": "code",
   "execution_count": 213,
   "id": "a8956a75-05ae-4556-ab50-a5a098e7223a",
   "metadata": {
    "jupyter": {
     "source_hidden": true
    }
   },
   "outputs": [],
   "source": [
    "def is_convex(polygon_vertices):\n",
    "    \"\"\"\n",
    "    Check if a polygon defined by the given points is convex.\n",
    "\n",
    "    Example: \n",
    "    polygon_points = [(0, 0), (1, 1), (2, 3), (3, 2), (2.5, 0.5), (1.5, 0.5)]\n",
    "    print(\"Is polygon convex?\", is_convex(polygon_points))\n",
    "    \"\"\"\n",
    "    def cross_product(p1, p2, p3):\n",
    "        \"\"\"\n",
    "        Calculate the cross product of vectors p1p2 and p1p3.\n",
    "        \"\"\"\n",
    "        x1, y1 = p2[0] - p1[0], p2[1] - p1[1]\n",
    "        x2, y2 = p3[0] - p1[0], p3[1] - p1[1]\n",
    "        return x1 * y2 - x2 * y1\n",
    "    \n",
    "    num_points = len(polygon_vertices)\n",
    "    if num_points < 3:\n",
    "        return False\n",
    "    \n",
    "    # Calculate the cross product of consecutive edges\n",
    "    # If the signs are the same for all cross products, the polygon is convex\n",
    "    sign = None\n",
    "    for i in range(num_points):\n",
    "        cp = cross_product(polygon_vertices[i], polygon_vertices[(i+1) % num_points], polygon_vertices[(i+2) % num_points])\n",
    "        if cp == 0:\n",
    "            continue\n",
    "        if sign is None:\n",
    "            sign = cp > 0\n",
    "        elif sign != (cp > 0):\n",
    "            return False\n",
    "    return True"
   ]
  },
  {
   "cell_type": "code",
   "execution_count": 214,
   "id": "22f36173-480a-4a42-9f0f-759d8ef9bf87",
   "metadata": {
    "jupyter": {
     "source_hidden": true
    }
   },
   "outputs": [],
   "source": [
    "def is_realplus(polygon_vertices):\n",
    "    return (min(polygon_vertices, key=lambda point: point[0])[0] >= 0) and \\\n",
    "           (min(polygon_vertices, key=lambda point: point[1])[1] >= 0)"
   ]
  },
  {
   "cell_type": "code",
   "execution_count": 215,
   "id": "0d3f7b88-e22b-4960-9be9-f4e9440cf32e",
   "metadata": {
    "jupyter": {
     "source_hidden": true
    }
   },
   "outputs": [],
   "source": [
    "def is_lower(polygon_vertices):\n",
    "    if not is_convex(polygon_vertices): \n",
    "        print(\"Warning: The polygon is not convex, this check might give a false positive\")\n",
    "\n",
    "    if not is_realplus(polygon_vertices): \n",
    "        print(\"Warning: The polygon is not contained in the first quadrant.\\n \\\n",
    "The question is not well posed\")\n",
    "\n",
    "    if (0,0) not in polygon_vertices:\n",
    "        return False\n",
    "    \n",
    "    max_x = max(polygon_vertices, key=lambda point: point[0])[0]\n",
    "    max_y = max(polygon_vertices, key=lambda point: point[1])[1]\n",
    "    print(max_x,max_y)\n",
    "    return ((0,max_y) in polygon_vertices) and ((max_x,0) in polygon_vertices)"
   ]
  },
  {
   "cell_type": "code",
   "execution_count": 216,
   "id": "306c3903-0d83-4db3-8ee8-6a284854c65c",
   "metadata": {
    "jupyter": {
     "source_hidden": true
    }
   },
   "outputs": [],
   "source": [
    "def phi(x,polygon):\n",
    "    # Supporting function\n",
    "    \n",
    "    vector_x = np.array(x)\n",
    "    p=0\n",
    "    for n in polygon: \n",
    "        p = max(p,np.dot(vector_x,np.array(n)))\n",
    "\n",
    "    return p"
   ]
  },
  {
   "cell_type": "code",
   "execution_count": 217,
   "id": "d988bf57-74be-416e-a043-52b3493239f9",
   "metadata": {
    "jupyter": {
     "source_hidden": true
    }
   },
   "outputs": [],
   "source": [
    "def phi_mesh(mesh,polygon_vertices):\n",
    "    # Supporting function - mesh version\n",
    "    mesh = (X,Y)\n",
    "    flat = [arr.flatten() for arr in mesh]\n",
    "    \n",
    "    dot=np.dot(np.array(polygon_vertices[0]),flat)\n",
    "    for p in polygon_vertices:\n",
    "        v = np.array(p)\n",
    "        dot=np.maximum(dot,np.dot(v,flat))\n",
    "    \n",
    "    a = dot.reshape(mesh[0].shape)\n",
    "    return(a)\n"
   ]
  },
  {
   "cell_type": "code",
   "execution_count": 376,
   "id": "bb34aba5-ddf5-4b8f-bee3-5de2b04e6963",
   "metadata": {},
   "outputs": [
    {
     "name": "stdout",
     "output_type": "stream",
     "text": [
      "Warning: The polygon is not convex\n"
     ]
    }
   ],
   "source": [
    "# Define the vertices of the polygon\n",
    "pol = [[0,0], [1, 2], [2, 3], [3, 2], [2.5, 0.5], [1.5, 0]]\n",
    "#pol = [[0,0], [0, 1], [2, 2], [2, 0]]\n",
    "pol = [[0,0], [1,0],[0,1],[4,1]]\n",
    "\n",
    "if [0,0] not in pol:\n",
    "    print(\"Warning: The polygon does not contain (0,0)\")\n",
    "\n",
    "if not is_convex(pol): \n",
    "    print(\"Warning: The polygon is not convex\")\n",
    "\n",
    "if not is_realplus(pol): \n",
    "    print(\"Warning: The polygon is not contained in the first quadrant\")\n",
    "\n"
   ]
  },
  {
   "cell_type": "code",
   "execution_count": 377,
   "id": "4e008ed2-ff12-4403-8dd0-1b51dfa686c1",
   "metadata": {},
   "outputs": [
    {
     "name": "stdout",
     "output_type": "stream",
     "text": [
      "[[0, 1], [0, 0], [1, 0], [4, 1]]\n",
      "(0.0, -1.0, 0.0, 0.31622776601683794) (1.0, 0.0, -1.0, -0.9486832980505138)\n"
     ]
    },
    {
     "data": {
      "application/vnd.jupyter.widget-view+json": {
       "model_id": "de83fc7d3cb54678ac673c0ebb5e6dc6",
       "version_major": 2,
       "version_minor": 0
      },
      "image/png": "[encoded data removed]",
      "text/html": [
       "\n",
       "            <div style=\"display: inline-block;\">\n",
       "                <div class=\"jupyter-widgets widget-label\" style=\"text-align: center;\">\n",
       "                    Figure\n",
       "                </div>\n",
       "                <img src='data:image/png;base64,iVBORw0KGgoAAAANSUhEUgAAAlgAAAJYCAYAAAC+ZpjcAAAAOXRFWHRTb2Z0d2FyZQBNYXRwbG90bGliIHZlcnNpb24zLjguMCwgaHR0cHM6Ly9tYXRwbG90bGliLm9yZy81sbWrAAAACXBIWXMAAA9hAAAPYQGoP6dpAAA1MElEQVR4nO3de1zUdb7H8fcgI4KCJniJvJaXVcFYtfKW6aKWpaVZW1lGZfvoQq5KZZlp2LF0c1u7mG7ZQdMi3Wq1TqVFedtdc8NbutrFFCVPauUFVHQc4Xf+4DCJYDH6ZX4z83s9Hw8eyjDOfPiusq/mMwMuy7IsAQAAwJgIuwcAAAAINwQWAACAYQQWAACAYQQWAACAYQQWAACAYQQWAACAYQQWAACAYQQWAACAYQQWAACAYQQWAACAYQQWAACAYQQWAACAYQQWAACAYQQWAACAYQQWAACAYQQWAACAYQQWAACAYQQWAACAYQQWAACAYQQWAACAYQQWAACAYQQWAACAYQQWAACAYQQWAACAYQQWAACAYQQWAACAYQQWAACAYQQWAACAYQQWAACAYQQWAACAYQQWAACAYQQWAACAYQQWAACAYQQWAACAYQQWAACAYQQWAACAYQQWAACAYQQWAACAYQQWAACAYQQWAACAYQQWAACAYQQWAACAYQQWAACAYQQWAACAYQQWAACAYQQWAACAYQQWAACAYQQWAACAYQQWAACAYQQWAACAYQQWAACAYQQWEObmzp0rl8vle4uMjFSTJk1055136n//939911uxYoVcLpdWrFjh932sXr1amZmZOnTokLnB/9/ChQvVoUMHRUdHy+VyaePGjRWuM2bMGLlcLn311VdnvJ3x48fL5XJp/fr1RuebOXOm5s6da/Q2AYQ+AgtwiDlz5uizzz5TTk6O/vCHP+jNN9/U5ZdfrqNHj57zba9evVqTJk0yHlg//vijhg8frosuukhLly7VZ599pjZt2lS43ogRIyRJWVlZld5OSUmJ5s2bp5SUFHXq1MnojAQWgMoQWIBDJCUlqWvXrurTp4+eeOIJjR07Vnl5eVq8eLHdo53RN998I6/Xq9tuu01XXHGFunbtqpiYmArXS0pK0qWXXqr58+fr5MmTFT7+8ccfa/fu3b4QC3bFxcXyeDx2jwHgHBBYgEN17dpVkrRr165fvN57772nbt26KSYmRrGxserXr58+++wz38czMzP18MMPS5JatmzpW0X+2qrx1273jjvuUM+ePSVJN910k1wul3r37n3G2xsxYoT27t2rJUuWVPjYnDlzFBUVpVtvvVWSVFhYqIceekgtW7ZUzZo1dcEFF2j06NEVHs0rKSnRiy++qJSUFEVHR6tevXrq2rWr3nvvPUlSixYttGXLFq1cudL3ebdo0cL35/Pz83XbbbepYcOGioqKUrt27fTss8+qpKTEd52dO3fK5XLpmWee0eTJk9WyZUtFRUVp+fLlKikp0eTJk9W2bVvf/Xfs2FHPP//8L54tAPtF2j0AAHt8++23kqQGDRqc8TrZ2dm69dZb1b9/f7355pvyeDx65pln1Lt3b3366afq2bOn7r77bh04cEAvvvii/v73v+v888+XJLVv3/6cbnfChAm69NJLlZ6erqefflp9+vRRXFzcGW/zlltu0ZgxY5SVlaVBgwb5Lj948KDeffddDRkyROedd56Kiop0xRVXaPfu3XrsscfUsWNHbdmyRRMnTtTmzZv1ySefyOVySSqNvNdff10jRozQk08+qZo1a2r9+vXauXOnJGnRokW64YYbVLduXc2cOVOSFBUVJal0vdm9e3edOHFC//Vf/6UWLVro/fff10MPPaTt27f7rl/mhRdeUJs2bfTnP/9ZcXFxat26tZ555hllZmbq8ccfV69eveT1evXVV19Vy3PdABhmAQhrc+bMsSRZa9assbxer3X48GHr/ffftxo0aGDFxsZae/futSzLspYvX25JspYvX25ZlmUVFxdbiYmJVnJyslVcXOy7vcOHD1sNGza0unfv7rts2rRpliQrLy/vV+fx53bLZnrrrbeq9LmmpaVZbrfb2rdvn++yF1980ZJk5eTkWJZlWVOmTLEiIiKs3Nzccn/27bfftiRZH374oWVZlrVq1SpLkjV+/PhfvM8OHTpYV1xxRYXLH330UUuS9e9//7vc5ffdd5/lcrmsr7/+2rIsy8rLy7MkWRdddJF14sSJctcdOHCglZKSUqXPHUBwYUUIOETXrl3ldrsVGxurgQMHqnHjxlqyZIkaNWpU6fW//vprff/99xo+fLgiIn7+UlGnTh0NHTpUa9asUVFRkd9zVNftSqVrQq/Xq/nz5/sumzNnjpo3b67U1FRJ0vvvv6+kpCSlpKTo5MmTvrcrr7yy3GqzbNWYnp5+VrMsW7ZM7du316WXXlru8jvuuEOWZWnZsmXlLr/22mvldrvLXXbppZfqiy++0P3336+PPvpIhYWFZzULgMAjsACHmDdvnnJzc7VhwwZ9//332rRpk3r06HHG6+/fv1+SfCu/UyUmJqqkpEQHDx70e47qul1Juvzyy9WmTRvNmTNHkrRp0yatX79ed955p2/tt2/fPm3atElut7vcW2xsrCzL0k8//SSpdMVXo0YNNW7c+Kxm2b9//xk/x7KPn6qy644bN05//vOftWbNGg0YMEDx8fFKTU3V2rVrz2omAIHDc7AAh2jXrp26dOlS5evHx8dLkvbs2VPhY99//70iIiJ03nnn+T1Hdd1umbvuukuPPvqoPv/8c2VnZysiIkJ33HGH7+MJCQmKjo4+47d0SEhIkFT63LTi4mLt3bu30vj5NfHx8Wf8HE+9nzJlAXiqyMhIZWRkKCMjQ4cOHdInn3yixx57TFdeeaW+++67Sl9RCSA48AgWgEq1bdtWF1xwgbKzs2VZlu/yo0eP6p133vG9AlD6+Yndx44dM3q7ZyMtLU2RkZF6+eWX9cYbbyg1NVXNmzf3fXzgwIHavn274uPj1aVLlwpvZa8CHDBggCRp1qxZv3h/UVFRlX7eqamp2rp1a4VvbDpv3jy5XC716dPHr8+rXr16uuGGG5Senq4DBw74nmgPIDjxCBaASkVEROiZZ57RrbfeqoEDB+qee+6Rx+PRtGnTdOjQIU2dOtV33eTkZEnS888/r7S0NLndbrVt21axsbHndLtno3Hjxrr66qs1Z84cWZZV4XtfjR49Wu+884569eqlMWPGqGPHjiopKVF+fr4+/vhjPfjgg7rssst0+eWXa/jw4Zo8ebL27dungQMHKioqShs2bFBMTIxGjhzp+9wXLFighQsX6sILL1StWrWUnJysMWPGaN68ebrmmmv05JNPqnnz5vrggw80c+ZM3XfffZV+w9TTDRo0SElJSerSpYsaNGigXbt26bnnnlPz5s3VunXrczonANXM1qfYA6h2Za8iPP1Vc6c7/VWEZRYvXmxddtllVq1atazatWtbqamp1r/+9a8Kf37cuHFWYmKiFRERUentnK4qt+vvqwjLvPvuu5Ykq379+tbx48crfPzIkSPW448/brVt29aqWbOmVbduXSs5OdkaM2aM71WVllX6isfp06dbSUlJvut169bN+p//+R/fdXbu3Gn179/fio2NtSRZzZs3931s165d1rBhw6z4+HjL7XZbbdu2taZNm1bu1ZNlryKcNm1ahTmfffZZq3v37lZCQoJVs2ZNq1mzZtaIESOsnTt3+nUeAALPZVmnPEYPAACAc8ZzsAAAAAwjsAAAAAwjsAAAAAxzVGBlZmb6fiBr2dvZfhNBAACAM3Hct2no0KGDPvnkE9/7NWrUsHEaAAAQjhwXWJGRkTxqBQAAqpXjAmvbtm1KTExUVFSULrvsMj399NO68MILz3h9j8cjj8fje7+kpEQHDhxQfHx8pT/aAgAA/MyyLB0+fFiJiYnlfsB7uHPU98FasmSJioqK1KZNG+3bt0+TJ0/WV199pS1btvh+PtrpMjMzNWnSpABPCgBAePnuu+/UpEkTu8cIGEcF1umOHj2qiy66SGPHjlVGRkal1zn9EayCggI1a9ZM7733jerUqR+oUUPWBx9IWVlevfTScvXp00dut9vukUKC1+vV8uWcmT84M/9xZv6ZO1d66qnSr2eNGvWRy8WZVcWRIwd07bVtdOjQIdWtW9fucQLGcSvCU9WuXVvJycnatm3bGa8TFRXl+0G2p6pTp77i4ip/1As/i4yUjh/3KiYmRvHx8XwRryKvlzPzF2fmP87MP7Vq/fz1LDY2XhERnJk/nPa0GucsQyvh8Xj05Zdf6vzzz7d7FAAAEEYcFVgPPfSQVq5cqby8PP373//WDTfcoMLCQqWlpdk9GgAACCOOWhHu3r1bt9xyi3766Sc1aNBAXbt21Zo1a9S8eXO7RwMAAGHEUYG1YMECu0cAAAAO4KgVIQAAQCAQWAAAAIYRWAAAAIYRWAAAAIYRWAAAAIYRWAAAAIYRWAAAAIYRWAAAAIYRWAAAAIYRWAAAAIYRWAAAAIYRWAAAAIYRWAAAAIYRWAAAAIYRWAAAAIYRWAAAAIYRWAAAAIYRWAAAAIYRWAAAAIYRWAAAAIYRWAAAAIYRWAAAAIYRWAAAAIYRWAAAAIYRWAAAAIYRWAAAAIYRWAAAAIYRWAAAAIYRWAAAAIYRWAAAAIYRWAAAAIYRWAAAAIYRWAAAAIYRWAAAAIYRWAAAAIYRWAAAAIYRWAAAAIYRWAAAAIYRWAAAAIYRWAAAAIYRWAAAAIYRWAAAAIYRWAAAAIYRWAAAAIYRWAAAAIYRWAAAAIYRWAAAAIYRWAAAAIYRWAAAAIYRWAAAAIYRWAAAAIYRWAAAAIYRWAAAAIYRWAAAAIYRWAAAAIYRWAAAAIYRWAAAAIYRWAAAAIYRWAAAAIYRWAAAAIYRWAAAAIYRWAAAAIYRWAAAAIYRWAAAAIYRWAAAAIY5OrCmTJkil8ul0aNH2z0KAAAII44NrNzcXL3yyivq2LGj3aMAAIAw48jAOnLkiG699VbNnj1b5513nt3jAACAMOPIwEpPT9c111yjvn372j0KAAAIQ5F2DxBoCxYs0Pr165Wbm1ul63s8Hnk8Ht/7hYWFkiTL8qqkxFstM4aTGjWk6OjSc/J6Oa+qKjsrzqzqODP/cWb+cbl+/nrG1/+qsyxnnpXLsizL7iEC5bvvvlOXLl308ccf6+KLL5Yk9e7dWykpKXruuecq/TOZmZmaNGlShcuzs7MVExNTneMCABDyioqKNGzYMBUUFCguLs7ucQLGUYG1ePFiDRkyRDVq1PBdVlxcLJfLpYiICHk8nnIfkyp/BKtp06b69NM9io2ND9jsoWrxYumvf/UqKytH/fr1k9vttnukkOD1epWTw5n5gzPzH2fmn9mzpQkTSr+eNW7cTxERnFlVHD68X6mp5zsusBy1IkxNTdXmzZvLXXbnnXfqN7/5jR555JEKcSVJUVFRioqKqnC5y+XmH1cVFBdLx46V/t7tdvNF3E+cmf84M/9xZlVjWT9/PYuI4P8DqsrlcuY5OSqwYmNjlZSUVO6y2rVrKz4+vsLlAAAAZ8uRryIEAACoTo56BKsyK1assHsEAAAQZngECwAAwDACCwAAwDACCwAAwDACCwAAwDACCwAAwDACCwAAwDACCwAAwDACCwAAwDACCwAAwDACCwAAwDACCwAAwDACCwAAwDACCwAAwDACCwAAwDACCwAAwDACCwAAwDACCwAAwDACCwAAwDACCwAAwDACCwAAwDACCwAAwDACCwAAwDACCwAAwDACCwAAwDACCwAAwDACCwAAwDACCwAAwDACCwAAwDACCwAAwDACCwAAwDACCwAAwDACCwAAwDACCwAAwDACCwAAwDACCwAAwDACCwAAwDACCwAAwDACCwAAwDACCwAAwDACCwAAwDACCwAAwDACCwAAwDACCwAAwDACCwAAwDACCwAAwDACCwAAwDACCwAAwDACCwAAwDACCwAAwDACCwAAwDACCwAAwDACCwAAwDACCwAAwDACCwAAwDACCwAAwDACCwAAwDACCwAAwDACCwAAwDACCwAAwDACCwAAwDACCwAAwDACCwAAwDACCwAAwDACCwAAwDACCwAAwDACCwAAwDACCwAAwDBHBdasWbPUsWNHxcXFKS4uTt26ddOSJUvsHgsAAIQZRwVWkyZNNHXqVK1du1Zr167V7373O1133XXasmWL3aMBAIAwEmn3AIE0aNCgcu8/9dRTmjVrltasWaMOHTrYNBUAAAg3jgqsUxUXF+utt97S0aNH1a1btzNez+PxyOPx+N4vLCyUJFmWVyUl3mqfM9TVqCFFR5eek9fLeVVV2VlxZlXHmfmPM/OPy/Xz1zO+/ledZTnzrFyWZVl2DxFImzdvVrdu3XT8+HHVqVNH2dnZuvrqq894/czMTE2aNKnC5dnZ2YqJianOUQEACHlFRUUaNmyYCgoKFBcXZ/c4AeO4wDpx4oTy8/N16NAhvfPOO3r11Ve1cuVKtW/fvtLrV/YIVtOmTfXpp3sUGxsfqLFD1uLF0l//6lVWVo769esnt9tt90ghwev1KieHM/MHZ+Y/zsw/s2dLEyaUfj1r3LifIiI4s6o4fHi/UlPPd1xgOW5FWLNmTbVq1UqS1KVLF+Xm5ur555/Xyy+/XOn1o6KiFBUVVeFyl8vNP64qKC6Wjh0r/b3b7eaLuJ84M/9xZv7jzKrGsn7+ehYRwf8HVJXL5cxzctSrCCtjWVa5R6gAAADOlaMewXrsscc0YMAANW3aVIcPH9aCBQu0YsUKLV261O7RAABAGHFUYO3bt0/Dhw/Xnj17VLduXXXs2FFLly5Vv3797B4NAACEEUcF1n//93/bPQIAAHAAxz8HCwAAwDQCCwAAwDACCwAAwDACCwAAwDACCwAAwDACCwAAwDACCwAAwDACCwAAwDACCwAAwDACCwAAwDACCwAAwDACCwAAwDACCwAAwDACCwAAwDACCwAAwDACCwAAwDACCwAAwDACCwAAwDACCwAAwDACCwAAwDACCwAAwDACCwAAwDACCwAAwDACCwAAwDACCwAAwDACCwAAwDACCwAAwDACCwAAwDACCwAAwDACCwAAwDACCwAAwDACCwAAwDACCwAAwDACCwAAwDACCwAAwDACCwAAwDACCwAAwDACCwAAwDACCwAAwDACCwAAwDACCwAAwDACCwAAwDACCwAAwDACCwAAwDACCwAAwDACCwAAwDACCwAAwDACCwAAwDACCwAAwDACCwAAwDACCwAAwDACCwAAwDBbAmvp0qX65z//6Xv/pZdeUkpKioYNG6aDBw/aMRIAAIAxtgTWww8/rMLCQknS5s2b9eCDD+rqq6/Wjh07lJGRYcdIAAAAxkTacad5eXlq3769JOmdd97RwIED9fTTT2v9+vW6+uqr7RgJAADAGFsewapZs6aKiookSZ988on69+8vSapfv77vkS0AAIBQZcsjWD179lRGRoZ69Oihzz//XAsXLpQkffPNN2rSpIkdIwEAABhjyyNYM2bMUGRkpN5++23NmjVLF1xwgSRpyZIluuqqq+wYCQAAwBhbHsFq1qyZ3n///QqXT58+3YZpAAAAzApYYBUWFiouLs73+19Sdj0AAIBQFLDAOu+887Rnzx41bNhQ9erVk8vlqnAdy7LkcrlUXFwcqLEAAACMC1hgLVu2TPXr1/f9vrLAAgAACAcBC6wrrrjC9/vevXsH6m4BAAACzpZXEU6YMKHSNWBBQYFuueUWGyYCAAAwx5bAmjdvnnr06KHt27f7LluxYoWSk5O1c+dOO0YCAAAwxpbA2rRpk1q0aKGUlBTNnj1bDz/8sPr376877rij3A+BNm3KlCm65JJLFBsbq4YNG2rw4MH6+uuvq+3+AACAM9nyfbDq1q2rBQsWaPz48brnnnsUGRmpJUuWKDU1tVrvd+XKlUpPT9cll1yikydPavz48erfv7+2bt2q2rVrV+t9AwAA57AlsCTpxRdf1PTp03XLLbdo3bp1+uMf/6js7GxdfPHF1XafS5cuLff+nDlz1LBhQ61bt069evWqtvsFAADOYsuKcMCAAZo0aZLmzZunN954Qxs2bFCvXr3UtWtXPfPMMwGbo6CgQJJ83z4CAADABFsewTp58qQ2bdqkxMRESVJ0dLRmzZqlgQMH6u6779bYsWOrfQbLspSRkaGePXsqKSnpjNfzeDzyeDy+98u+C71leVVS4q32OUNdjRpSdHTpOXm9nFdVlZ0VZ1Z1nJn/ODP/uFw/fz3j63/VWZYzz8plWZZl9xCn+umnn5SQkFDt95Oenq4PPvhA//znP9WkSZMzXi8zM1OTJk2qcHl2drZiYmKqc0QAAEJeUVGRhg0bpoKCAkf9KLygC6xAGDlypBYvXqxVq1apZcuWv3jdyh7Batq0qT79dI9iY+Ore9SQt3ix9Ne/epWVlaN+/frJ7XbbPVJI8Hq9ysnhzPzBmfmPM/PP7NnShAmlX88aN+6niAjOrCoOH96v1NTzHRdYtqwIi4uLNX36dP3tb39Tfn6+Tpw4Ue7jBw4cqJb7tSxLI0eO1KJFi7RixYpfjStJioqKUlRUVIXLXS43/7iqoLhYOnas9Pdut5sv4n7izPzHmfmPM6say/r561lEBP8fUFUulzPPyZYnuU+aNEl/+ctf9Pvf/14FBQXKyMjQ9ddfr4iICGVmZlbb/aanp+v1119Xdna2YmNjtXfvXu3du1fHyv7FAAAAGGBLYL3xxhuaPXu2HnroIUVGRuqWW27Rq6++qokTJ2rNmjXVdr+zZs1SQUGBevfurfPPP9/3tnDhwmq7TwAA4Dy2rAj37t2r5ORkSVKdOnV83y5h4MCBmjBhQrXdrwOfbgYAAGxgyyNYTZo00Z49eyRJrVq10scffyxJys3NrfT5TgAAAKHElsAaMmSIPv30U0nSqFGjNGHCBLVu3Vq333677rrrLjtGAgAAMMaWFeHUqVN9v7/hhhvUpEkTrV69Wq1atdK1115rx0gAAADG2PazCE/VtWtXde3a1e4xAAAAjLBlRXiquLg47dixw+4xAAAAjAloYO3evbvCZbyyDwAAhJuABlZSUpLmz58fyLsEAAAIuIAG1tNPP6309HQNHTpU+/fvlyTddtttjvrZRAAAIPwFNLDuv/9+ffHFFzp48KA6dOig9957T7NmzVJCQkIgxwAAAKhWAX8VYcuWLbVs2TLNmDFDQ4cOVbt27RQZWX6M9evXB3osAAAAY2z5Ng27du3SO++8o/r16+u6666rEFgAAAChLOBlM3v2bD344IPq27ev/vOf/6hBgwaBHgEAAKBaBTSwrrrqKn3++eeaMWOGbr/99kDeNQAAQMAENLCKi4u1adMmNWnSJJB3CwAAEFABDaycnJxA3h0AAIAtbP9ROQAAAOGGwAIAADCMwAIAADCMwAIAADCMwAIAADCMwAIAADCMwAIAADCMwAIAADCMwAIAADCMwAIAADCMwAIAADCMwAIAADCMwAIAADCMwAIAADCMwAIAADCMwAIAADCMwAIAADCMwAIAADCMwAIAADCMwAIAADCMwAIAADCMwAIAADCMwAIAADCMwAIAADCMwAIAADCMwAIAADCMwAIAADCMwAIAADCMwAIAADCMwAIAADCMwAIAADCMwAIAADCMwAIAADCMwAIAADCMwAIAADCMwAIAADCMwAIAADCMwAIAADCMwAIAADCMwAIAADCMwAIAADCMwAIAADCMwAIAADCMwAIAADCMwAIAADCMwAIAADCMwAIAADCMwAIAADCMwAIAADCMwAIAADCMwAIAADCMwAIAADDMUYG1atUqDRo0SImJiXK5XFq8eLHdIwEAgDDkqMA6evSoLr74Ys2YMcPuUQAAQBiLtHuAQBowYIAGDBhg9xiOcvHWbN2uY5ISpHnzJMuye6TQ4HJJCZyZXzgz/3Fmfmm3WuqkJLvHQIhwVGCdDY/HI4/H43u/sLBQkjR0qFfHj3vtGitkfKmJui76oHKUJe/YsdKxY3aPFBK80dFSFmfmD87Mf5yZfy6XdF/0LZKuVUkJX/+ryrKceVYuy3Lmf7a4XC4tWrRIgwcP/sXrZWZmatKkSRUuz87OVkxMTDVNBwBAeCgqKtKwYcNUUFCguLg4u8cJGALrVwKrskewmjZtqj179ig+Pr6apwwD7drJe/CgcrKy1G//frmd+dfNb16XSznx8ZyZHzgz/3Fmp9i5U1q0SNqx48zXSUnR+K9vVo+s5mrcuJ8iItwBGy+UHT68X6mp5zsusFgR/oqoqChFRUVVuNztdsvt5h/Xrzp+3Ld6cA8fzplVldcrffghZ+YPzsx/Tj+zHTukt96S/vY3af36yq/TubP0+99LN9wgXXihll/iVQ99qLw8t1q3duCZnQWXy5nnRGABAJzjLKLqVK+8IuXnS089Jc2dW/3jInQ5KrCOHDmib7/91vd+Xl6eNm7cqPr166tZs2Y2TgYAqDbnGFWnSkoqDazt26tpVoQNRwXW2rVr1adPH9/7GRkZkqS0tDTN5T9FACB8GIyqM9m2TWrd+hznRNhyVGD17t1bDn1OPwCEvwBE1akmTpTefPOcbgJhzFGBBQAIMwGOqlNt22bsphCGCCwAQGixMarKdOggrV3LmhBnRmABAIJfEETVqV55RerUiTUhzozAAgAEpyCLqlMl/f+PJGRNiDMhsAAAwSOIo+p0ycnS5s2sCVE5AgsAYK8QiqpTzZ8vpaSwJkTlCCwAQOCFaFSd6uKLS39lTYjKEFgAgMAIg6g6HWtCnAmBBQCoPmEYVadiTYgzIbAAAGaFeVSdijUhzoTAAgCcOwdF1elYE6IyBBYA4Ow4OKpOxZoQlSGwAABVR1RVwJoQlSGwAAC/jKj6VawJcToCCwBQEVHlF9aEOB2BBQAoRVSdNdaEOB2BBQBO99xz0oIFRNU5Yk2IU0XYPQAAIMB27JD+9CepV6/S9594omJcde5cep3t26W1a6WxY4mrXzF/fumvEyfaOweCA49gAYATVLb+i44ufx0eqTonrAlxKgILAMLV9u2lUfXWW2de/0nSk09K119PVBnAmhBlCCwACCdViaqyR6qGDJG2bpVGjZLc7sDOGaZ4NSHKEFgAEOqqGlU33lj6VvZIlddbGlgwhjUhyhBYABCKzjaqUO1YE0IisAAgdBBVIYE1ISQCCwCCG1EVclgTQiKwACD4EFUhjzUhCCwACAZEVVhhTQgCCwDsQlSFLdaEILAAIJCIKsdgTehsBBYAVDeiypFYEzobgQUA1YGocjzWhM5GYAGAKUQVTsOa0LkILAA4F0QVfgFrQucisADAX0QVqog1oXMRWABQFUQVzhJrQmcisADgTIgqGMCa0JkILAA4FVEFw1gTOhOBBQBEFaoZa0LnIbAAOBNRhQBiTeg8BBYA5yCqYBPWhM5DYAEIb0QVggRrQmchsACEH6IKQYg1obMQWADCQ15e6a+9eklr1lR+HaIKNmJN6CwRdg8AAGdt+3Zp6tTScEpJKb3siy/KX6dz59LrbN8urV0rPfIIcQXbJCeX/kpkhT8ewQIQWs60/ouO/vn3PFKFIMWa0DkILADBryrPqTr1ESyeQYwgxZrQOQgsAMHJ3yeqN20qffih1KJFQMcE/MWrCZ2BwAIQPM7l1X9eb2BmBM4Ra0JnILAA2ItvqQCHYU3oDAQWgMAjquBwrAnDH4EFIDCIKsCHNWH4I7AAVB+iCqgUa8LwR2ABMIuoAqqENWF4I7AAnDuiCvAba8LwRmABODtEFXBOWBOGNwILQNURVYBRrAnDF4EF4JcRVUC1YU0YvggsABURVUBAsCYMXwQWgFJEFWAL1oThicACnIyoAmzHmjA8EViA0xBVQFBhTRieCCzACYgqIKixJgw/BBYQrogqIGSwJgw/BBYQTogqICSxJgw/BBYQ6ogqICywJgwvEXYPYIeZM2eqZcuWqlWrljp37qx//OMfdo8E+Gf7dmnq1NJwatVKGjeuYlx17lx6ne3bpbVrpUceIa6AIDZ/fumvEyfaOwfMcNwjWAsXLtTo0aM1c+ZM9ejRQy+//LIGDBigrVu3qlmzZnaPB5wZj1QBYY01YXhxXGD95S9/0YgRI3T33XdLkp577jl99NFHmjVrlqZMmWLzdMBp8vKkv/+dqAIcgjVh+HBUYJ04cULr1q3To48+Wu7y/v37a/Xq1TZN5SDz5kmWZfcUoeHHH6X27UtfVnTsWMWPE1VAWOLVhOHDUYH1008/qbi4WI0aNSp3eaNGjbR3795K/4zH45HH4/G9X1hYKElq3dqr48e91TdsmPhStdQgOlqS5B07tvJYQAXe6GgpK6v01zIpKdKQIdLgwVKLFqdcmb+HkuT9/3Pwch5Vxpn5r7rPrH17KTpa2r1bKimplrsIOMty5t8vl2U55yGF77//XhdccIFWr16tbt26+S5/6qmnNH/+fH311VcV/kxmZqYmTZpU4fLs7GzFxMRU67wAAIS6oqIiDRs2TAUFBYqLi7N7nIBx1CNYCQkJqlGjRoVHq3744YcKj2qVGTdunDIyMnzvFxYWqmnTpmrUqI9iY+Ordd5w8O3Ut/SvFcfVLyte/fbvl9s5PX/WVq2S3n4/Qldl1Ve/fv3kdrvtHikkeL1e5eTkcGZ+4Mz8F4gz27xZ6tlTuugiKSurWu4ioA4f3m/3CLZwVGDVrFlTnTt3Vk5OjoYMGeK7PCcnR9ddd12lfyYqKkpRUVEVLne53IqI4AvSr/mi9TBlLfGqnz6Ue/hwvohXwVfHpdfe8uoqfahvvnErJYUz84fb7ebvmZ84M/9V55l16lT6bIr//EeKCINvpuRyOfPvVhj8T+efjIwMvfrqq8rKytKXX36pMWPGKD8/X/fee6/dowEV3HOP3RMAsENycumvfMuG0OWoR7Ak6aabbtL+/fv15JNPas+ePUpKStKHH36o5s2b2z0aUMHmzXZPAMAO8+ZJv/0tryYMZY4LLEm6//77df/999s9BlAlmzZJHTvaPQWAQEpJKf2VR7BCl+NWhECouf12uycAYAfWhKGNwAKC3Bdf2D0BADvMm1f6Kz+bMDQRWEAQK/sm7Zs22TsHgMBjTRjaCCwgiI0fX/ora0LAmVgThi4CCwhirVqV/sqaEHAm1oShi8ACglxZZLEmBJyHNWHoIrCAIPfkk6W/siYEnIk1YWgisIAg16ZN6a+sCQFnYk0YmggsIASwJgScizVhaCKwgBDAmhBwNtaEoYfAAkIAa0LA2VgThh4CCwgRrAkB52JNGHoILCBEsCYEnI01YWghsIAQwZoQcDbWhKGFwAJCCGtCwLlYE4YWAgsIIawJAWdjTRg6CCwghLAmBJyNNWHoILCAEMOaEHAu1oShg8ACQgxrQsDZWBOGBgILCDGsCQFnY00YGggsIASxJgScizVhaCCwgBDEmhBwNtaEwY/AAkIQa0LA2VgTBj8CCwhRrAkB52JNGPwILCBEsSYEnI01YXAjsIAQxZoQcDbWhMGNwAJCGGtCwLlYEwY3AgsIYawJAWdjTRi8CCwghLEmBJyNNWHwIrCAEMeaEHAu1oTBi8ACQhxrQsDZWBMGJwILCHGsCQFnY00YnAgsIAyUrQmJLMB5WBMGJwILCANla8K0NHvnAGAP1oTBh8ACwgBrQsDZWBMGHwILCBOsCQHnYk0YfAgsIEywJgScjTVhcCGwgDDBmhBwNtaEwYXAAsIIa0LAuVgTBhcCCwgjrAkBZ2NNGDwILCCMsCYEnI01YfAgsIAww5oQcC7WhMGDwALCDGtCwNlYEwYHAgsIM6wJAWdjTRgcCCwgDLEmBJyLNWFwILCAMMSaEHA21oT2I7CAMMSaEHA21oT2I7CAMMWaEHAu1oT2I7CAMMWaEHA21oT2IrCAMMWaEHA21oT2IrCAMMaaEHAu1oT2IrCAMMaaEHA21oT2IbCAMMaaEHA21oT2IbCAMMeaEHAu1oT2IbCAMMeaEHA21oT2ILCAMMeaEHA21oT2ILAAB2BNCDgXa0J7EFiAA7AmBJyNNWHgEViAA7AmBJyNNWHgEViAQ7AmBJyLNWHgEViAQ7AmBJyNNWFgEViAQ7AmBJyNNWFgEViAg7AmBJyLNWFgEViAg7AmBJyNNWHgEFiAg7AmBJyNNWHgEFiAw7AmBJyLNWHgEFiAw7AmBJyNNWFgOCqwnnrqKXXv3l0xMTGqV6+e3eMAtmBNCDgba8LAcFRgnThxQjfeeKPuu+8+u0cBbMWaEHAu1oSB4ajAmjRpksaMGaPkssdHAYdiTQg4G2vC6hdp9wDBzuPxyOPx+N4vKCiQJB05csCukULKyZNSrVpeFRUVaf/+/XK73XaPFPSOH//5zA4f3i+Xy/yZNW4s1aolff21tH+/8Zu3hdfL3zN/cWb+C5cze+klqX//0v/Yeuml6r2vsv+/tCyreu8oyLgsp33GkubOnavRo0fr0KFDv3rdzMxMTZo0qfqHAgAgjG3fvl0XXnih3WMETMg/glWVAMrNzVWXLl3O6vbHjRunjIwM3/uHDh1S8+bNlZ+fr7p1657VbTpNYWGhmjZtqu+++05xcXF2jxMSODP/cWb+48z8x5n5r6CgQM2aNVP9+vXtHiWgQj6wHnjgAd18882/eJ0WLVqc9e1HRUUpKiqqwuV169blH5ef4uLiODM/cWb+48z8x5n5jzPzX0SEo572HfqBlZCQoISEBLvHAAAA8An5wPJHfn6+Dhw4oPz8fBUXF2vjxo2SpFatWqlOnTr2DgcAAMKGowJr4sSJeu2113zv//a3v5UkLV++XL17967SbURFRemJJ56odG2IynFm/uPM/MeZ+Y8z8x9n5j+nnpkjX0UIAABQnZz1jDMAAIAAILAAAAAMI7AAAAAMI7AAAAAMI7DOwVNPPaXu3bsrJiZG9erVs3ucoDRz5ky1bNlStWrVUufOnfWPf/zD7pGC2qpVqzRo0CAlJibK5XJp8eLFdo8U1KZMmaJLLrlEsbGxatiwoQYPHqyvv/7a7rGC2qxZs9SxY0ffN8rs1q2blixZYvdYIWXKlClyuVwaPXq03aMErczMTLlcrnJvjRs3tnusgCKwzsGJEyd044036r777rN7lKC0cOFCjR49WuPHj9eGDRt0+eWXa8CAAcrPz7d7tKB19OhRXXzxxZoxY4bdo4SElStXKj09XWvWrFFOTo5Onjyp/v376+jRo3aPFrSaNGmiqVOnau3atVq7dq1+97vf6brrrtOWLVvsHi0k5Obm6pVXXlHHjh3tHiXodejQQXv27PG9bd682e6RAopv02CAPz882kkuu+wyderUSbNmzfJd1q5dOw0ePFhTpkyxcbLQ4HK5tGjRIg0ePNjuUULGjz/+qIYNG2rlypXq1auX3eOEjPr162vatGkaMWKE3aMEtSNHjqhTp06aOXOmJk+erJSUFD333HN2jxWUMjMztXjxYt839HYiHsFCtThx4oTWrVun/v37l7u8f//+Wr16tU1TIdwVFBRIkuN+qOzZKi4u1oIFC3T06FF169bN7nGCXnp6uq655hr17dvX7lFCwrZt25SYmKiWLVvq5ptv1o4dO+weKaAc9Z3cETg//fSTiouL1ahRo3KXN2rUSHv37rVpKoQzy7KUkZGhnj17Kikpye5xgtrmzZvVrVs3HT9+XHXq1NGiRYvUvn17u8cKagsWLND69euVm5tr9ygh4bLLLtO8efPUpk0b7du3T5MnT1b37t21ZcsWxcfH2z1eQPAI1mkqe2Le6W9r1661e8yQ4XK5yr1vWVaFywATHnjgAW3atElvvvmm3aMEvbZt22rjxo1as2aN7rvvPqWlpWnr1q12jxW0vvvuO40aNUqvv/66atWqZfc4IWHAgAEaOnSokpOT1bdvX33wwQeSVO7H1YU7HsE6zQMPPKCbb775F6/TokWLwAwTwhISElSjRo0Kj1b98MMPFR7VAs7VyJEj9d5772nVqlVq0qSJ3eMEvZo1a6pVq1aSpC5duig3N1fPP/+8Xn75ZZsnC07r1q3TDz/8oM6dO/suKy4u1qpVqzRjxgx5PB7VqFHDxgmDX+3atZWcnKxt27bZPUrAEFinSUhIUEJCgt1jhLyaNWuqc+fOysnJ0ZAhQ3yX5+Tk6LrrrrNxMoQTy7I0cuRILVq0SCtWrFDLli3tHikkWZYlj8dj9xhBKzU1tcIr4O6880795je/0SOPPEJcVYHH49GXX36pyy+/3O5RAobAOgf5+fk6cOCA8vPzVVxc7Hu1RKtWrVSnTh17hwsCGRkZGj58uLp06aJu3brplVdeUX5+vu699167RwtaR44c0bfffut7Py8vTxs3blT9+vXVrFkzGycLTunp6crOzta7776r2NhY3yOmdevWVXR0tM3TBafHHntMAwYMUNOmTXX48GEtWLBAK1as0NKlS+0eLWjFxsZWeF5f7dq1FR8fz/P9zuChhx7SoEGD1KxZM/3www+aPHmyCgsLlZaWZvdogWPhrKWlpVmSKrwtX77c7tGCxksvvWQ1b97cqlmzptWpUydr5cqVdo8U1JYvX17p36m0tDS7RwtKlZ2VJGvOnDl2jxa07rrrLt+/yQYNGlipqanWxx9/bPdYIeeKK66wRo0aZfcYQeumm26yzj//fMvtdluJiYnW9ddfb23ZssXusQKK74MFAABgGK8iBAAAMIzAAgAAMIzAAgAAMIzAAgAAMIzAAgAAMIzAAgAAMIzAAgAAMIzAAuAoK1askMvl0qFDh+weBUAYI7AA2KK4uFjdu3fX0KFDy11eUFCgpk2b6vHHH6+W++3evbv27NmjunXrVsvtA4Ak8Z3cAdhm27ZtSklJ0SuvvKJbb71VknT77bfriy++UG5urmrWrGnzhABwdngEC4BtWrdurSlTpmjkyJH6/vvv9e6772rBggV67bXXzhhXjzzyiNq0aaOYmBhdeOGFmjBhgrxeryTJsiz17dtXV111lcr+2/HQoUNq1qyZxo8fL6niinDXrl0aNGiQzjvvPNWuXVsdOnTQhx9+WP2fPICwFmn3AACcbeTIkVq0aJFuv/12bd68WRMnTlRKSsoZrx8bG6u5c+cqMTFRmzdv1h/+8AfFxsZq7Nixcrlceu2115ScnKwXXnhBo0aN0r333qtGjRopMzOz0ttLT0/XiRMntGrVKtWuXVtbt25VnTp1queTBeAYrAgB2O6rr75Su3btlJycrPXr1ysysur/7Tdt2jQtXLhQa9eu9V321ltvafjw4crIyNDzzz+vDRs2qE2bNpJKH8Hq06ePDh48qHr16qljx44aOnSonnjiCeOfFwDnYkUIwHZZWVmKiYlRXl6edu/eLUm69957VadOHd9bmbfffls9e/ZU48aNVadOHU2YMEH5+fnlbu/GG2/U9ddfrylTpujZZ5/1xVVl/vjHP2ry5Mnq0aOHnnjiCW3atKl6PkkAjkJgAbDVZ599punTp+vdd99Vt27dNGLECFmWpSeffFIbN270vUnSmjVrdPPNN2vAgAF6//33tWHDBo0fP14nTpwod5tFRUVat26datSooW3btv3i/d99993asWOHhg8frs2bN6tLly568cUXq+vTBeAQBBYA2xw7dkxpaWm655571LdvX7366qvKzc3Vyy+/rIYNG6pVq1a+N0n617/+pebNm2v8+PHq0qWLWrdurV27dlW43QcffFARERFasmSJXnjhBS1btuwX52jatKnuvfde/f3vf9eDDz6o2bNnV8vnC8A5CCwAtnn00UdVUlKiP/3pT5KkZs2a6dlnn9XDDz+snTt3Vrh+q1atlJ+frwULFmj79u164YUXtGjRonLX+eCDD5SVlaU33nhD/fr106OPPqq0tDQdPHiw0hlGjx6tjz76SHl5eVq/fr2WLVumdu3aGf9cATgLT3IHYIuVK1cqNTVVK1asUM+ePct97Morr9TJkyf1ySefyOVylfvY2LFjlZWVJY/Ho2uuuUZdu3ZVZmamDh06pB9//FHJyckaNWqUxo0bJ0k6efKkevTooRYtWmjhwoUVnuQ+cuRILVmyRLt371ZcXJyuuuoqTZ8+XfHx8QE7CwDhh8ACAAAwjBUhAACAYQQWAACAYQQWAACAYQQWAACAYQQWAACAYQQWAACAYQQWAACAYQQWAACAYQQWAACAYQQWAACAYQQWAACAYQQWAACAYQQWAACAYQQWAACAYQQWAACAYQQWAACAYQQWAACAYQQWAACAYQQWAACAYQQWAACAYQQWAACAYQQWAACAYQQWAACAYQQWAACAYQQWAACAYf8H5wxNNQoFDTYAAAAASUVORK5CYII=' width=600.0/>\n",
       "            </div>\n",
       "        "
      ],
      "text/plain": [
       "Canvas(toolbar=Toolbar(toolitems=[('Home', 'Reset original view', 'home', 'home'), ('Back', 'Back to previous …"
      ]
     },
     "metadata": {},
     "output_type": "display_data"
    }
   ],
   "source": [
    "con = [[0] * 2 for _ in range(len(pol))]\n",
    "pol = convex_hull(pol) # Positive orientation\n",
    "print(pol)\n",
    "t = [pol[0][1] - pol[len(pol)-1][1],pol[len(pol)-1][0]-pol[0][0]]\n",
    "con[0] = t/np.linalg.norm(t)\n",
    "\n",
    "for i in range(1,len(pol)):\n",
    "    t = [pol[i][1] - pol[i-1][1],pol[i-1][0]-pol[i][0]]\n",
    "    con[i] = t/np.linalg.norm(t)\n",
    "\n",
    "x_con, y_con = zip(*con)\n",
    "x_pol, y_pol = zip(*pol)\n",
    "plt.figure(figsize=(6, 6))\n",
    "\n",
    "print(x_con,y_con)\n",
    "# Plot the line segments\n",
    "for i in range(len(x_pol)):\n",
    "    point = [x_pol[i],y_pol[i]]\n",
    "    vector1 = [x_con[i], y_con[i]]\n",
    "    if i == len(x_pol)-1:\n",
    "        vector2 = [x_con[0], y_con[0]]\n",
    "    else:\n",
    "        vector2 = [x_con[i+1], y_con[i+1]]\n",
    "    \n",
    "    plt.arrow(point[0],point[1],10*vector1[0],10*vector1[1], color='b', head_width=0.05, head_length=0.1)\n",
    "    plt.arrow(point[0],point[1],10*vector2[0],10*vector2[1], color='b', head_width=0.05, head_length=0.1)\n",
    "\n",
    "    norm_v1 = np.linalg.norm(vector1)\n",
    "    norm_v2 = np.linalg.norm(vector2)\n",
    "    angle1 = np.arctan2(vector1[1],vector1[0]) *180/np.pi\n",
    "    angle2 = np.arctan2(vector2[1],vector2[0]) *180/np.pi\n",
    "    plt.gca().add_patch(Wedge(point, 10*max(norm_v1, norm_v2), angle1, angle2, color='b', alpha=0.2))\n",
    "    \n",
    "\n",
    "polygon_patch = Polygon(pol, closed=True, edgecolor='r', linewidth=2, facecolor='none')\n",
    "plt.gca().add_patch(polygon_patch)\n",
    "# Set labels and title\n",
    "plt.xlabel('X-axis')\n",
    "plt.ylabel('Y-axis')\n",
    "plt.title('Plot of Vectors')\n",
    "\n",
    "M = max(max(x_pol),max(y_pol))\n",
    "m = min(min(x_pol),min(y_pol))\n",
    "plt.xlim(m-1, M+1)  # Set the x-axis limits from 0 to 6\n",
    "plt.ylim(m-1, M+1)  # Set the y-axis limits from 0 to 12\n",
    "\n",
    "# Set aspect ratio to be equal\n",
    "plt.gca().set_aspect('equal', adjustable='box')\n",
    "\n",
    "# Show the plot\n",
    "plt.grid(True)\n",
    "plt.show()\n",
    "\n"
   ]
  },
  {
   "cell_type": "code",
   "execution_count": 378,
   "id": "8a92d6b0-9986-46af-b3a3-b1d90cbf5331",
   "metadata": {},
   "outputs": [
    {
     "ename": "ValueError",
     "evalue": "shapes (2,100,100) and (2,) not aligned: 100 (dim 2) != 2 (dim 0)",
     "output_type": "error",
     "traceback": [
      "\u001b[0;31m---------------------------------------------------------------------------\u001b[0m",
      "\u001b[0;31mValueError\u001b[0m                                Traceback (most recent call last)",
      "Cell \u001b[0;32mIn[378], line 10\u001b[0m\n\u001b[1;32m      8\u001b[0m X, Y \u001b[38;5;241m=\u001b[39m np\u001b[38;5;241m.\u001b[39mmeshgrid(x, y)\n\u001b[1;32m      9\u001b[0m Z \u001b[38;5;241m=\u001b[39m np\u001b[38;5;241m.\u001b[39msin(np\u001b[38;5;241m.\u001b[39msqrt(X\u001b[38;5;241m*\u001b[39m\u001b[38;5;241m*\u001b[39m\u001b[38;5;241m2\u001b[39m \u001b[38;5;241m+\u001b[39m Y\u001b[38;5;241m*\u001b[39m\u001b[38;5;241m*\u001b[39m\u001b[38;5;241m2\u001b[39m))\n\u001b[0;32m---> 10\u001b[0m Z \u001b[38;5;241m=\u001b[39m \u001b[43mphi\u001b[49m\u001b[43m(\u001b[49m\u001b[43m(\u001b[49m\u001b[43mX\u001b[49m\u001b[43m,\u001b[49m\u001b[43mY\u001b[49m\u001b[43m)\u001b[49m\u001b[43m,\u001b[49m\u001b[43mpolygon_vertices\u001b[49m\u001b[43m)\u001b[49m\n\u001b[1;32m     12\u001b[0m \u001b[38;5;66;03m# Create a 3D plot\u001b[39;00m\n\u001b[1;32m     13\u001b[0m fig \u001b[38;5;241m=\u001b[39m plt\u001b[38;5;241m.\u001b[39mfigure()\n",
      "Cell \u001b[0;32mIn[216], line 7\u001b[0m, in \u001b[0;36mphi\u001b[0;34m(x, polygon)\u001b[0m\n\u001b[1;32m      5\u001b[0m p\u001b[38;5;241m=\u001b[39m\u001b[38;5;241m0\u001b[39m\n\u001b[1;32m      6\u001b[0m \u001b[38;5;28;01mfor\u001b[39;00m n \u001b[38;5;129;01min\u001b[39;00m polygon: \n\u001b[0;32m----> 7\u001b[0m     p \u001b[38;5;241m=\u001b[39m \u001b[38;5;28mmax\u001b[39m(p,\u001b[43mnp\u001b[49m\u001b[38;5;241;43m.\u001b[39;49m\u001b[43mdot\u001b[49m\u001b[43m(\u001b[49m\u001b[43mvector_x\u001b[49m\u001b[43m,\u001b[49m\u001b[43mnp\u001b[49m\u001b[38;5;241;43m.\u001b[39;49m\u001b[43marray\u001b[49m\u001b[43m(\u001b[49m\u001b[43mn\u001b[49m\u001b[43m)\u001b[49m\u001b[43m)\u001b[49m)\n\u001b[1;32m      9\u001b[0m \u001b[38;5;28;01mreturn\u001b[39;00m p\n",
      "\u001b[0;31mValueError\u001b[0m: shapes (2,100,100) and (2,) not aligned: 100 (dim 2) != 2 (dim 0)"
     ]
    }
   ],
   "source": [
    "import numpy as np\n",
    "import matplotlib.pyplot as plt\n",
    "from mpl_toolkits.mplot3d import Axes3D\n",
    "\n",
    "# Generate some 3D data\n",
    "x = np.linspace(-5, 5, 100)\n",
    "y = np.linspace(-5, 5, 100)\n",
    "X, Y = np.meshgrid(x, y)\n",
    "Z = np.sin(np.sqrt(X**2 + Y**2))\n",
    "Z = phi((X,Y),polygon_vertices)\n",
    "\n",
    "# Create a 3D plot\n",
    "fig = plt.figure()\n",
    "ax = fig.add_subplot(111, projection='3d')\n",
    "ax.plot_surface(X, Y, Z, cmap='viridis')\n",
    "\n",
    "# Add labels and title\n",
    "ax.set_xlabel('X')\n",
    "ax.set_ylabel('Y')\n",
    "ax.set_zlabel('phi')\n",
    "ax.set_title('3D Plot')\n",
    "# Show the plot\n",
    "plt.show()"
   ]
  },
  {
   "cell_type": "code",
   "execution_count": null,
   "id": "9596fdc8-2b5e-4f88-996e-075953667076",
   "metadata": {},
   "outputs": [],
   "source": []
  }
 ],
 "metadata": {
  "kernelspec": {
   "display_name": "Python 3 (ipykernel)",
   "language": "python",
   "name": "python3"
  },
  "language_info": {
   "codemirror_mode": {
    "name": "ipython",
    "version": 3
   },
   "file_extension": ".py",
   "mimetype": "text/x-python",
   "name": "python",
   "nbconvert_exporter": "python",
   "pygments_lexer": "ipython3",
   "version": "3.12.2"
  }
 },
 "nbformat": 4,
 "nbformat_minor": 5
}
